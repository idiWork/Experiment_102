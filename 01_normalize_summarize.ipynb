{
  "cells": [
    {
      "metadata": { "trusted": true },
      "cell_type": "code",
      "source": "import nltk\nimport re\nimport unicodedata\nimport numpy as np\nfrom gensim.summarization import summarize",
      "execution_count": null,
      "outputs": []
    },
    {
      "metadata": { "trusted": true },
      "cell_type": "code",
      "source": "def normalize_text(text):\n    text = re.sub('\\n', ' ', text)\n    text = text.strip()\n    sentences = nltk.sent_tokenize(text)\n    sentences = [sentence.strip() for sentence in sentences]\n    return sentences",
      "execution_count": null,
      "outputs": []
    },
    {
      "metadata": { "trusted": true },
      "cell_type": "code",
      "source": "def summarize_text(text, summary_ratio=None, word_count=30):\n    sentences = normalize_text(text)\n    cleaned_text = ' '.join(sentences)\n    summary = summarize(cleaned_text, split=True, ratio=summary_ratio, word_count=word_count)\n    return summary ",
      "execution_count": null,
      "outputs": []
    },
    {
      "metadata": { "trusted": true },
      "cell_type": "code",
      "source": "example = \"\"\"\nI would like to thank you for a wonderful stay at the Hotel California.   \nThe room we stayed in was very nice and had plenty of room for the whole family and the beds were especially comfortable.  \nThe kids loved going to the Kids Club and the swimming pools all day which gave us some time to relax and have a few cocktails before eating at the Bistro restaurant. The food was great and the kids menu was priced very reasonably.\nA big thank you to all the staff who couldn’t do enough for us and were polite and friendly throughout our stay. \nWe had a great family holiday and can’t wait to book again for next year. \n\"\"\"",
      "execution_count": null,
      "outputs": []
    },
    {
      "metadata": { "trusted": true },
      "cell_type": "code",
      "source": "summarize_text(example)",
      "execution_count": null,
      "outputs": []
    }
  ],
  "metadata": {
    "kernelspec": {
      "name": "python36",
      "display_name": "Python 3.6",
      "language": "python"
    },
    "language_info": {
      "mimetype": "text/x-python",
      "nbconvert_exporter": "python",
      "name": "python",
      "pygments_lexer": "ipython3",
      "version": "3.6.6",
      "file_extension": ".py",
      "codemirror_mode": {
        "version": 3,
        "name": "ipython"
      }
    }
  },
  "nbformat": 4,
  "nbformat_minor": 2
}