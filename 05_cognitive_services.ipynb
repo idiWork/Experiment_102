{
  "cells": [
    {
      "metadata": {
        "trusted": true
      },
      "cell_type": "code",
      "source": "subscription_key = 'xxxxxxxxx'\nassert subscription_key",
      "execution_count": null,
      "outputs": []
    },
    {
      "metadata": {
        "trusted": true
      },
      "cell_type": "code",
      "source": "vision_endpoint = 'https://xxxxxxxxx.cognitiveservices.azure.com/'\nvision_base_url = vision_endpoint + \"vision/v1.0/\"\nvision_analyze_url = vision_base_url + \"analyze\"",
      "execution_count": null,
      "outputs": []
    },
    {
      "metadata": {
        "trusted": true
      },
      "cell_type": "code",
      "source": "images_folder = \"https://raw.githubusercontent.com/idiWork/Experiment_102/master/images/idiwork_experiment_102_sample_image_\"\nresort_pool = images_folder + \"01.jpg\"\nresort_room = images_folder + \"02.jpg\"\nresort_diner = images_folder + \"03.jpg\"\nhotel_diner = images_folder + \"04.jpg\"\nhotel_pool = images_folder + \"05.jpg\"\nhotel_room = images_folder + \"06.jpg\"",
      "execution_count": null,
      "outputs": []
    },
    {
      "metadata": {
        "trusted": true
      },
      "cell_type": "code",
      "source": "image_url = resort_room",
      "execution_count": null,
      "outputs": []
    },
    {
      "metadata": {
        "trusted": true
      },
      "cell_type": "code",
      "source": "from IPython.display import Image, display\ndisplay(Image(image_url))",
      "execution_count": null,
      "outputs": []
    },
    {
      "metadata": {
        "trusted": true
      },
      "cell_type": "code",
      "source": "import requests\nheaders  = {'Ocp-Apim-Subscription-Key': subscription_key }\nparams   = {'visualFeatures': 'Categories,Description,Tags,Color'}\ndata     = {'url': image_url}\nresponse = requests.post(vision_analyze_url, headers=headers, params=params, json=data)\nresponse.raise_for_status()\nanalysis = response.json()\nanalysis",
      "execution_count": null,
      "outputs": []
    },
    {
      "metadata": {
        "trusted": true
      },
      "cell_type": "code",
      "source": "caption = analysis[\"description\"][\"captions\"][0][\"text\"].capitalize()\ncaption",
      "execution_count": null,
      "outputs": []
    },
    {
      "metadata": {
        "trusted": true
      },
      "cell_type": "code",
      "source": "topTags = analysis[\"description\"][\"tags\"][0:4]\ntopTags",
      "execution_count": null,
      "outputs": []
    },
    {
      "metadata": {
        "trusted": true
      },
      "cell_type": "code",
      "source": "text_analytics_subscription_key = 'xxxxxxxxx'\nassert text_analytics_subscription_key",
      "execution_count": null,
      "outputs": []
    },
    {
      "metadata": {
        "trusted": true
      },
      "cell_type": "code",
      "source": "text_analytics_base_url = 'https://xxxxxxxxx.cognitiveservices.azure.com/text/analytics/v2.0/'\nsentiment_api_url = text_analytics_base_url + \"sentiment\"",
      "execution_count": null,
      "outputs": []
    },
    {
      "metadata": {
        "trusted": true
      },
      "cell_type": "code",
      "source": "neg_sent = \"\"\"\nThis is the worst stay I have every had! I have nothing positive to say about the diner and am extremely angry.\nPoor service, bad food and too expensive drinks. I will not recommend it to anyone.\n\"\"\"\npos_sent = \"\"\"\nI would like to thank you very much for a wonderful stay at the hotel. \nThe room we stayed in was very nice and had plenty of room for the whole family and the beds were especially comfortable.\n\"\"\"\nneutral_sent = \"\"\"\nThe kids go to the swimming pool all day while we take sunbaths near them.\nWe have an umbrellas and a deck chair for each of us if we go early in the morning. \n\"\"\"\nlong_review = \"\"\"\nWe arrived in the evening and the reception was very busy, \nso we decided to wait until it was quieter. \nUnfortunately, we could not charge anything to the room yet as we were not checked in. \nWe could not use the Wi-Fi either so had to use the guest Wi-Fi which was very slow and poor quality.\nOnce we checked in, the room was very nice and had fantastic views, but the bathroom was quite dirty.  \nWe called reception and they sent housekeeping who were very quick to clean the bathroom properly and even gave us some free bath toys for the kids which they loved. \nOverall the stay was pleasant and the service from staff was excellent. \n\"\"\"",
      "execution_count": null,
      "outputs": []
    },
    {
      "metadata": {
        "trusted": true
      },
      "cell_type": "code",
      "source": "review_text = long_review",
      "execution_count": null,
      "outputs": []
    },
    {
      "metadata": {
        "trusted": true
      },
      "cell_type": "code",
      "source": "documents = {'documents' : [\n    {'id': '1', 'language': 'en', 'text': review_text}\n]}",
      "execution_count": null,
      "outputs": []
    },
    {
      "metadata": {
        "trusted": true
      },
      "cell_type": "code",
      "source": "headers   = {\"Ocp-Apim-Subscription-Key\": text_analytics_subscription_key}\nresponse  = requests.post(sentiment_api_url, headers=headers, json=documents)\nsentiments = response.json()\nsentiments",
      "execution_count": null,
      "outputs": []
    },
    {
      "metadata": {
        "trusted": true
      },
      "cell_type": "code",
      "source": "score = sentiments['documents'][0]['score']\nscore",
      "execution_count": null,
      "outputs": []
    },
    {
      "metadata": {
        "trusted": true
      },
      "cell_type": "code",
      "source": "score_interpretation = \"Neutral\"\nif (score < 0.4): \n    score_interpretation = \"Negative\"\nelif (score >= 0.6):\n    score_interpretation = \"Positive\"\nscore_interpretation",
      "execution_count": null,
      "outputs": []
    },
    {
      "metadata": {
        "trusted": true
      },
      "cell_type": "code",
      "source": "def invoke_service(ml_service_key, ml_service_scoring_endpoint, ml_service_input):\n    headers   = {\"Authorization\": \"Bearer \" + ml_service_key}\n    response  = requests.post(ml_service_scoring_endpoint, headers=headers, json=ml_service_input)\n    result = response.json()\n    return result",
      "execution_count": null,
      "outputs": []
    },
    {
      "metadata": {
        "trusted": true
      },
      "cell_type": "code",
      "source": "classifier_service_key = \"\" #leave this value empty if the service does not have authentication enabled\nclassifier_service_scoring_endpoint = 'http://xxx-xxx-xxx-xxx-xxx.westeurope.azurecontainer.io/score'\nclassifier_service_input = [review_text]",
      "execution_count": null,
      "outputs": []
    },
    {
      "metadata": {
        "trusted": true
      },
      "cell_type": "code",
      "source": "classifier_result = invoke_service(classifier_service_key, classifier_service_scoring_endpoint, classifier_service_input)\nclassifier_result",
      "execution_count": null,
      "outputs": []
    },
    {
      "metadata": {
        "trusted": true
      },
      "cell_type": "code",
      "source": "# Interpret the classifier result\nclassification = 'Room Review'\nif classifier_result == 1:\n    classification = 'Diner Review'\nelif classifier_result == 2:\n    classification = 'Pool Review'\nclassification",
      "execution_count": null,
      "outputs": []
    },
    {
      "metadata": {
        "trusted": true
      },
      "cell_type": "code",
      "source": "summarizer_service_key = \"\" #leave this value empty if the service does not have authentication enabled\nsummarizer_service_scoring_endpoint = 'http://xxx-xxx-xxx-xxx-xxx.westeurope.azurecontainer.io/score'\nsummarizer_service_input = review_text",
      "execution_count": null,
      "outputs": []
    },
    {
      "metadata": {
        "trusted": true
      },
      "cell_type": "code",
      "source": "summarizer_result = invoke_service(summarizer_service_key, summarizer_service_scoring_endpoint, summarizer_service_input)\nformatted_result =  summarizer_result[0].replace(\"\\\\n\", \" \").strip() if len(summarizer_result) > 0 else \"N/A\"\nformatted_result",
      "execution_count": null,
      "outputs": []
    },
    {
      "metadata": {
        "trusted": true
      },
      "cell_type": "code",
      "source": "from IPython.core.display import HTML\n\ndisplayTemplate = \"\"\"\n<div><h3>Claim Summary</h3></div>\n<div>&nbsp;</div>\n<div><b>Classification:</b> {}</div>\n<div><b>Caption:</b> {}</div>\n<div><b>Tags:</b> {}</div>\n<div><b>Sentiment:</b> {}</div>\n<div>&nbsp;</div>\n<div><img src='{}' width='200px'></div>\n<div>&nbsp;</div>\n<div><b>Summary:</b></div>\n<div>{}</div>\n<div>&nbsp;</div>\n<div><b>Claim:</b></div>\n<div>{}</div>\n\"\"\"\ndisplayTemplate = displayTemplate.format(classification, caption, ' '.join(topTags), score_interpretation, image_url, formatted_result, review_text)\ndisplay(HTML(displayTemplate))",
      "execution_count": null,
      "outputs": []
    }
  ],
  "metadata": {
    "kernelspec": {
      "name": "python36",
      "display_name": "Python 3.6",
      "language": "python"
    },
    "language_info": {
      "mimetype": "text/x-python",
      "nbconvert_exporter": "python",
      "name": "python",
      "pygments_lexer": "ipython3",
      "version": "3.6.6",
      "file_extension": ".py",
      "codemirror_mode": {
        "version": 3,
        "name": "ipython"
      }
    }
  },
  "nbformat": 4,
  "nbformat_minor": 2
}