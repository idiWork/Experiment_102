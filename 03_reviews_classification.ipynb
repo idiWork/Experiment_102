{
  "cells": [
    {
      "metadata": {
        "trusted": true
      },
      "cell_type": "code",
      "source": "import re\nimport nltk\nimport uuid\n\nimport os\nimport numpy as np\nimport pandas as pd\n\nimport tensorflow as tf\nimport keras\nfrom keras import models, layers, optimizers, regularizers\nfrom keras.models import Sequential\nfrom keras.layers import Dense, Activation\nfrom keras.utils import to_categorical\n\nprint('Keras version: ', keras.__version__)\nprint('Tensorflow version: ', tf.__version__)",
      "execution_count": null,
      "outputs": []
    },
    {
      "metadata": {
        "trusted": true
      },
      "cell_type": "code",
      "source": "import urllib.request\n\ndata_location = './data'\nbase_data_url = 'https://raw.githubusercontent.com/idiWork/Experiment_102/master/'\nfilesToDownload = ['reviews_labels.txt', 'reviews_texts.txt', 'contractions.py', 'textanalytics.py']\n\nos.makedirs(data_location, exist_ok=True)\n\nfor file in filesToDownload:\n    data_url = os.path.join(base_data_url, file)\n    local_file_path = os.path.join(data_location, file)\n    urllib.request.urlretrieve(data_url, local_file_path)\n    print('Downloaded file: ', file)",
      "execution_count": null,
      "outputs": []
    },
    {
      "metadata": {
        "trusted": true
      },
      "cell_type": "code",
      "source": "nltk.download('stopwords')",
      "execution_count": null,
      "outputs": []
    },
    {
      "metadata": {
        "trusted": true
      },
      "cell_type": "code",
      "source": "import sys\nsys.path.append(data_location)\nimport textanalytics as ta",
      "execution_count": null,
      "outputs": []
    },
    {
      "metadata": {
        "trusted": true
      },
      "cell_type": "code",
      "source": "reviews_corpus = [review for review in open(os.path.join(data_location, 'reviews_texts.txt'))]\nreviews_corpus",
      "execution_count": null,
      "outputs": []
    },
    {
      "metadata": {
        "trusted": true
      },
      "cell_type": "code",
      "source": "labels = [int(re.sub(\"\\n\", \"\", label)) for label in open(os.path.join(data_location, 'reviews_labels.txt'))]\nprint(len(labels))\nprint(labels[0:5]) # first 5 labels\nprint(labels[20:25]) # middle 5 labels\nprint(labels[-5:]) # last 5 labels",
      "execution_count": null,
      "outputs": []
    },
    {
      "metadata": {
        "trusted": true
      },
      "cell_type": "code",
      "source": "labels = to_categorical(labels, 3)\nprint(labels.shape)\nprint(labels[0:3]) # first 3 categorical labels\nprint(labels[-3:]) # last 3 categorical labels",
      "execution_count": null,
      "outputs": []
    },
    {
      "metadata": {
        "trusted": true
      },
      "cell_type": "code",
      "source": "nltk.download('punkt')",
      "execution_count": null,
      "outputs": []
    },
    {
      "metadata": {
        "trusted": true
      },
      "cell_type": "code",
      "source": "norm_corpus = ta.normalize_corpus(reviews_corpus)\nnorm_corpus",
      "execution_count": null,
      "outputs": []
    },
    {
      "metadata": {
        "trusted": true
      },
      "cell_type": "code",
      "source": "vectorizer, tfidf_matrix = ta.build_feature_matrix(norm_corpus) \ndata = tfidf_matrix.toarray()\nprint(data.shape)\ndata",
      "execution_count": null,
      "outputs": []
    },
    {
      "metadata": {
        "trusted": true
      },
      "cell_type": "code",
      "source": "np.random.seed(125)\nmodel = Sequential()\nmodel.add(Dense(60, input_dim=data.shape[1], kernel_regularizer=regularizers.l2(0.02)))\nmodel.add(Activation('relu'))\nmodel.add(Dense(3))\nmodel.add(Activation('sigmoid'))\n\nmodel.summary()",
      "execution_count": null,
      "outputs": []
    },
    {
      "metadata": {
        "trusted": true
      },
      "cell_type": "code",
      "source": "from sklearn.model_selection import train_test_split\n\nX_train, X_test, y_train, y_test = train_test_split(data, labels, test_size=0.2, random_state=0)",
      "execution_count": null,
      "outputs": []
    },
    {
      "metadata": {
        "trusted": true
      },
      "cell_type": "code",
      "source": "opt = keras.optimizers.Adam(lr=0.001)\nmodel.compile(loss='binary_crossentropy', optimizer=opt, metrics=['accuracy'])",
      "execution_count": null,
      "outputs": []
    },
    {
      "metadata": {
        "trusted": true
      },
      "cell_type": "code",
      "source": "epochs = 100\nbatch_size = 16\nmodel.fit(X_train, y_train, epochs=epochs, batch_size=batch_size, validation_data=(X_test, y_test))",
      "execution_count": null,
      "outputs": []
    },
    {
      "metadata": {
        "trusted": true
      },
      "cell_type": "code",
      "source": "test_reviews = ['The room was very nice and the beds were especially comfortable.', \n              'The kids loved going to the Kids Club at the swimming pool.', \n              'The food was great and the buffet was priced very reasonably.']\ntest_reviews = ta.normalize_corpus(test_reviews)\ntest_reviews = vectorizer.transform(test_reviews)\n\ntest_reviews = test_reviews.toarray()\nprint(test_reviews.shape)",
      "execution_count": null,
      "outputs": []
    },
    {
      "metadata": {
        "trusted": true
      },
      "cell_type": "code",
      "source": "pred = model.predict(test_reviews)\npred_label = pred.argmax(axis=1)\npred_df = pd.DataFrame(np.column_stack((pred,pred_label)), columns=['class_0_room', 'class_1_diner', 'class_2_pool', 'label'])\npred_df.label = pred_df.label.astype(int)\nprint('Predictions')\npred_df",
      "execution_count": null,
      "outputs": []
    },
    {
      "metadata": {
        "trusted": true
      },
      "cell_type": "code",
      "source": "from sklearn.externals import joblib\n\noutput_folder = './output'\nmodel_filename = 'final_model.hdf5'\nos.makedirs(output_folder, exist_ok=True)\nmodel.save(os.path.join(output_folder, model_filename))\n\nvectorizer_name = 'vectorizer'\njoblib.dump(vectorizer, os.path.join(output_folder, vectorizer_name))",
      "execution_count": null,
      "outputs": []
    },
    {
      "metadata": {
        "trusted": true
      },
      "cell_type": "code",
      "source": "from keras.models import load_model\nloaded_model = load_model(os.path.join(output_folder, model_filename))\nloaded_model.summary()",
      "execution_count": null,
      "outputs": []
    },
    {
      "metadata": {
        "trusted": true
      },
      "cell_type": "code",
      "source": "pred = loaded_model.predict(test_reviews)\npred_label = pred.argmax(axis=1)\npred_df = pd.DataFrame(np.column_stack((pred,pred_label)), columns=['class_0_room', 'class_1_diner', 'class_2_pool', 'label'])\npred_df.label = pred_df.label.astype(int)\nprint('Predictions')\npred_df",
      "execution_count": null,
      "outputs": []
    }
  ],
  "metadata": {
    "kernelspec": {
      "name": "python36",
      "display_name": "Python 3.6",
      "language": "python"
    },
    "language_info": {
      "mimetype": "text/x-python",
      "nbconvert_exporter": "python",
      "name": "python",
      "pygments_lexer": "ipython3",
      "version": "3.6.6",
      "file_extension": ".py",
      "codemirror_mode": {
        "version": 3,
        "name": "ipython"
      }
    }
  },
  "nbformat": 4,
  "nbformat_minor": 2
}